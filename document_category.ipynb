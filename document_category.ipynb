{
 "cells": [
  {
   "cell_type": "code",
   "execution_count": 4,
   "metadata": {},
   "outputs": [],
   "source": [
    "import jieba\n",
    "import sklearn\n",
    "import numpy as np\n",
    "import pandas as pd\n",
    "import os"
   ]
  },
  {
   "cell_type": "code",
   "execution_count": 3,
   "metadata": {},
   "outputs": [],
   "source": [
    "def cutwords(filepath):\n",
    "    text_with_spaces = ''\n",
    "    text = open(filepath,'r',encoding='gb18030').read()\n",
    "    textcut = jieba.cut(text)\n",
    "    for word in textcut:\n",
    "        text_with_spaces += word + ' '\n",
    "    return text_with_spaces"
   ]
  },
  {
   "cell_type": "code",
   "execution_count": 6,
   "metadata": {},
   "outputs": [],
   "source": [
    "def loadtxt(dirpath,label):\n",
    "    file_list = os.listdir(dirpath)\n",
    "    words_list = []\n",
    "    label_list = []\n",
    "    for file in file_list:\n",
    "        file_path = dirpath + '/' + file\n",
    "        words = cutwords(file_path)\n",
    "        words_list.append(words)\n",
    "        label_list.append(label)\n",
    "    return words_list,label_list"
   ]
  },
  {
   "cell_type": "code",
   "execution_count": null,
   "metadata": {},
   "outputs": [],
   "source": []
  },
  {
   "cell_type": "code",
   "execution_count": 8,
   "metadata": {},
   "outputs": [],
   "source": [
    "# 训练数据\n",
    "train_words_list1, train_labels1 = loadtxt('text classification/train/女性', '女性')\n",
    "train_words_list2, train_labels2 = loadtxt('text classification/train/体育', '体育')\n",
    "train_words_list3, train_labels3 = loadtxt('text classification/train/文学', '文学')\n",
    "train_words_list4, train_labels4 = loadtxt('text classification/train/校园', '校园')\n",
    "\n",
    "train_words_list = train_words_list1 + train_words_list2 + train_words_list3 + train_words_list4\n",
    "train_labels = train_labels1 + train_labels2 + train_labels3 + train_labels4\n",
    "\n",
    "# 测试数据\n",
    "test_words_list1, test_labels1 = loadtxt('text classification/test/女性', '女性')\n",
    "test_words_list2, test_labels2 = loadtxt('text classification/test/体育', '体育')\n",
    "test_words_list3, test_labels3 = loadtxt('text classification/test/文学', '文学')\n",
    "test_words_list4, test_labels4 = loadtxt('text classification/test/校园', '校园')\n",
    "\n",
    "test_words_list = test_words_list1 + test_words_list2 + test_words_list3 + test_words_list4\n",
    "test_labels = test_labels1 + test_labels2 + test_labels3 + test_labels4\n"
   ]
  },
  {
   "cell_type": "code",
   "execution_count": 12,
   "metadata": {},
   "outputs": [],
   "source": [
    "\n",
    "stop_words = open('text classification/stop/stopword.txt', 'r', encoding='utf-8').read()\n",
    "stop_words = stop_words.encode('utf-8').decode('utf-8-sig') # 列表头部\\ufeff处理\n",
    "stop_words = stop_words.split('\\n') # 根据分隔符分隔\n",
    " "
   ]
  },
  {
   "cell_type": "code",
   "execution_count": 25,
   "metadata": {},
   "outputs": [],
   "source": [
    "\n",
    "# 计算单词权重\n",
    "tf = sklearn.feature_extraction.text.TfidfVectorizer(stop_words=stop_words, max_df=0.5)\n"
   ]
  },
  {
   "cell_type": "code",
   "execution_count": 24,
   "metadata": {},
   "outputs": [
    {
     "name": "stdout",
     "output_type": "stream",
     "text": [
      "准确率为： 0.91\n"
     ]
    }
   ],
   "source": [
    "train_features = tf.fit_transform(train_words_list)\n",
    "# 上面fit过了，这里transform\n",
    "test_features = tf.transform(test_words_list) \n",
    " \n",
    "clf = sklearn.naive_bayes.MultinomialNB(alpha=0.001).fit(train_features, train_labels)\n",
    "predicted_labels=clf.predict(test_features)\n",
    "\n",
    "# 计算准确率\n",
    "print('准确率为：', metrics.accuracy_score(test_labels, predicted_labels))"
   ]
  },
  {
   "cell_type": "code",
   "execution_count": null,
   "metadata": {},
   "outputs": [],
   "source": []
  },
  {
   "cell_type": "code",
   "execution_count": null,
   "metadata": {},
   "outputs": [],
   "source": []
  }
 ],
 "metadata": {
  "kernelspec": {
   "display_name": "Python 3",
   "language": "python",
   "name": "python3"
  },
  "language_info": {
   "codemirror_mode": {
    "name": "ipython",
    "version": 3
   },
   "file_extension": ".py",
   "mimetype": "text/x-python",
   "name": "python",
   "nbconvert_exporter": "python",
   "pygments_lexer": "ipython3",
   "version": "3.7.3"
  },
  "toc": {
   "base_numbering": 1,
   "nav_menu": {},
   "number_sections": true,
   "sideBar": true,
   "skip_h1_title": false,
   "title_cell": "Table of Contents",
   "title_sidebar": "Contents",
   "toc_cell": false,
   "toc_position": {},
   "toc_section_display": true,
   "toc_window_display": false
  }
 },
 "nbformat": 4,
 "nbformat_minor": 2
}
